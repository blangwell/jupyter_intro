{
 "cells": [
  {
   "cell_type": "code",
   "execution_count": 2,
   "metadata": {},
   "outputs": [],
   "source": [
    "from selenium import webdriver"
   ]
  },
  {
   "cell_type": "code",
   "execution_count": 4,
   "metadata": {},
   "outputs": [],
   "source": [
    "import json, re, datetime, time, requests"
   ]
  },
  {
   "cell_type": "code",
   "execution_count": 20,
   "metadata": {},
   "outputs": [
    {
     "name": "stdout",
     "output_type": "stream",
     "text": [
      "<selenium.webdriver.chrome.webdriver.WebDriver (session=\"53c16bc4fd9b146f8c89f3e47846825c\")>\n"
     ]
    }
   ],
   "source": [
    "# start the driver\n",
    "driver = webdriver.Chrome(executable_path='/Users/barent/Downloads/chromedriver')\n",
    "print(driver)"
   ]
  },
  {
   "cell_type": "code",
   "execution_count": 21,
   "metadata": {},
   "outputs": [
    {
     "name": "stdout",
     "output_type": "stream",
     "text": [
      "* Going to Twitter!\n"
     ]
    }
   ],
   "source": [
    "# go to twitter\n",
    "driver.get('https://twitter.com/login')\n",
    "print('*', 'Going to Twitter!')"
   ]
  },
  {
   "cell_type": "code",
   "execution_count": 22,
   "metadata": {},
   "outputs": [],
   "source": [
    "# get username, input username \n",
    "# COPIED XPATH FROM TWITTER\n",
    "username = driver.find_element_by_xpath('//*[@id=\"react-root\"]/div/div/div[2]/main/div/div/div[1]/form/div/div[1]/label/div/div[2]/div/input')\n",
    "username.send_keys('barenthood@gmail.com')"
   ]
  },
  {
   "cell_type": "code",
   "execution_count": 15,
   "metadata": {},
   "outputs": [],
   "source": [
    "from keys import password"
   ]
  },
  {
   "cell_type": "code",
   "execution_count": 23,
   "metadata": {},
   "outputs": [
    {
     "name": "stdout",
     "output_type": "stream",
     "text": [
      "<selenium.webdriver.remote.webelement.WebElement (session=\"53c16bc4fd9b146f8c89f3e47846825c\", element=\"2589b466-2310-4c11-9bbb-c6feb893a5ef\")>\n",
      "this is working\n"
     ]
    }
   ],
   "source": [
    "password_input = driver.find_element_by_xpath('//*[@id=\"react-root\"]/div/div/div[2]/main/div/div/div[1]/form/div/div[2]/label/div/div[2]/div/input')\n",
    "print(password_input)\n",
    "password_input.send_keys(password)\n",
    "print('this is working')"
   ]
  },
  {
   "cell_type": "code",
   "execution_count": 26,
   "metadata": {},
   "outputs": [],
   "source": [
    "# click to login\n",
    "login_button = driver.find_element_by_xpath('//*[@id=\"react-root\"]/div/div/div[2]/main/div/div/div[1]/form/div/div[3]/div/div')\n",
    "login_button.click()"
   ]
  },
  {
   "cell_type": "code",
   "execution_count": 29,
   "metadata": {},
   "outputs": [
    {
     "name": "stdout",
     "output_type": "stream",
     "text": [
      "HIDEO_KOJIMA Retweeted\n",
      "KOJIMA PRODUCTIONS (Eng)\n",
      "@KojiPro2015_EN\n",
      "·\n",
      "Sep 7\n",
      "Soul Kitchen director, Fatih Akin, talks about Hideo Kojima’s latest game, #DeathStranding.  \n",
      " \n",
      "Full video \n",
      "@IGNJapan\n",
      ".com:  https://bit.ly/3lZ62jK\n",
      " \n",
      "For a limited time, enjoy 25% off  #DeathStrandingPC now available on Steam http://bit.ly/SteamDS\n",
      "0:07\n",
      "22.8K views\n",
      "4\n",
      "47\n",
      "328\n"
     ]
    }
   ],
   "source": [
    "tweet = driver.find_element_by_xpath('//*[@id=\"react-root\"]/div/div/div[2]/main/div/div/div/div/div/div[4]/div/div/section/div/div/div[5]/div/div/article/div/div').text\n",
    "print(tweet)"
   ]
  },
  {
   "cell_type": "code",
   "execution_count": 32,
   "metadata": {},
   "outputs": [
    {
     "name": "stdout",
     "output_type": "stream",
     "text": [
      "['HIDEO_KOJIMA Retweeted', 'KOJIMA PRODUCTIONS (Eng)', '@KojiPro2015_EN', '·', 'Sep 7', 'Soul Kitchen director, Fatih Akin, talks about Hideo Kojima’s latest game, #DeathStranding.  ', ' ', 'Full video ', '@IGNJapan', '.com:  https://bit.ly/3lZ62jK', ' ', 'For a limited time, enjoy 25% off  #DeathStrandingPC now available on Steam http://bit.ly/SteamDS', '0:07', '22.8K views', '4', '47', '328']\n"
     ]
    }
   ],
   "source": [
    "tweet_list = tweet.split('\\n')\n",
    "print(tweet_list)"
   ]
  },
  {
   "cell_type": "code",
   "execution_count": 40,
   "metadata": {},
   "outputs": [
    {
     "name": "stdout",
     "output_type": "stream",
     "text": [
      "Soul Kitchen director, Fatih Akin, talks about Hideo Kojima’s latest game, #DeathStranding.     Full video  @IGNJapan .com:  https://bit.ly/3lZ62jK   For a limited time, enjoy 25% off  #DeathStrandingPC now available on Steam http://bit.ly/SteamDS\n",
      "328\n"
     ]
    }
   ],
   "source": [
    "name = tweet_list[1]\n",
    "username = tweet_list[2]\n",
    "actual_tweet = tweet_list[5:-5]\n",
    "formatted_tweet = ' '.join(actual_tweet)\n",
    "likes = tweet_list[-1]\n",
    "print(formatted_tweet)\n",
    "print(likes)"
   ]
  },
  {
   "cell_type": "code",
   "execution_count": 41,
   "metadata": {},
   "outputs": [],
   "source": [
    "import pymongo"
   ]
  },
  {
   "cell_type": "code",
   "execution_count": 52,
   "metadata": {},
   "outputs": [
    {
     "name": "stdout",
     "output_type": "stream",
     "text": [
      "MongoClient(host=['localhost:27017'], document_class=dict, tz_aware=False, connect=True)\n",
      "['GArcadeDB', 'admin', 'barentDB', 'bountyhunters', 'bountyhunterz', 'config', 'database', 'hunters', 'local', 'mernAuthDB', 'seir713testgoose', 'vibeogane']\n"
     ]
    }
   ],
   "source": [
    "myclient = pymongo.MongoClient('mongodb://localhost:27017/')\n",
    "print(myclient)\n",
    "\n",
    "print(myclient.list_database_names())"
   ]
  },
  {
   "cell_type": "code",
   "execution_count": 46,
   "metadata": {},
   "outputs": [],
   "source": [
    "mydb = myclient['database']\n",
    "tweetCollection = mydb['tweets']"
   ]
  },
  {
   "cell_type": "code",
   "execution_count": 47,
   "metadata": {},
   "outputs": [],
   "source": [
    "data = {\n",
    "    \"name\": name,\n",
    "    \"username\": username,\n",
    "    \"tweet\": formatted_tweet,\n",
    "    \"likes\": likes\n",
    "}"
   ]
  },
  {
   "cell_type": "code",
   "execution_count": 49,
   "metadata": {},
   "outputs": [
    {
     "data": {
      "text/plain": [
       "<pymongo.results.InsertOneResult at 0x10a871900>"
      ]
     },
     "execution_count": 49,
     "metadata": {},
     "output_type": "execute_result"
    }
   ],
   "source": [
    "tweetCollection.insert_one(data)"
   ]
  },
  {
   "cell_type": "code",
   "execution_count": 51,
   "metadata": {},
   "outputs": [
    {
     "name": "stdout",
     "output_type": "stream",
     "text": [
      "{'_id': ObjectId('5f694072da8d8be834901e96'), 'name': 'KOJIMA PRODUCTIONS (Eng)', 'username': '@KojiPro2015_EN', 'tweet': 'Soul Kitchen director, Fatih Akin, talks about Hideo Kojima’s latest game, #DeathStranding.     Full video  @IGNJapan .com:  https://bit.ly/3lZ62jK   For a limited time, enjoy 25% off  #DeathStrandingPC now available on Steam http://bit.ly/SteamDS', 'likes': '328'}\n"
     ]
    }
   ],
   "source": [
    "print(tweetCollection.find_one())"
   ]
  },
  {
   "cell_type": "code",
   "execution_count": null,
   "metadata": {},
   "outputs": [],
   "source": []
  }
 ],
 "metadata": {
  "kernelspec": {
   "display_name": "Python 3",
   "language": "python",
   "name": "python3"
  },
  "language_info": {
   "codemirror_mode": {
    "name": "ipython",
    "version": 3
   },
   "file_extension": ".py",
   "mimetype": "text/x-python",
   "name": "python",
   "nbconvert_exporter": "python",
   "pygments_lexer": "ipython3",
   "version": "3.8.5"
  }
 },
 "nbformat": 4,
 "nbformat_minor": 4
}
